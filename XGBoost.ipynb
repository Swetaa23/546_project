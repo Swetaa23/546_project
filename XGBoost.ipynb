{
  "nbformat": 4,
  "nbformat_minor": 0,
  "metadata": {
    "colab": {
      "provenance": [],
      "toc_visible": true,
      "authorship_tag": "ABX9TyOjOU1Rucqj8vY4G/89pAUD",
      "include_colab_link": true
    },
    "kernelspec": {
      "name": "python3",
      "display_name": "Python 3"
    },
    "language_info": {
      "name": "python"
    }
  },
  "cells": [
    {
      "cell_type": "markdown",
      "metadata": {
        "id": "view-in-github",
        "colab_type": "text"
      },
      "source": [
        "<a href=\"https://colab.research.google.com/github/Swetaa23/546_project/blob/main/XGBoost.ipynb\" target=\"_parent\"><img src=\"https://colab.research.google.com/assets/colab-badge.svg\" alt=\"Open In Colab\"/></a>"
      ]
    },
    {
      "cell_type": "code",
      "source": [
        "from google.colab import drive\n",
        "drive.mount('/content/drive')"
      ],
      "metadata": {
        "colab": {
          "base_uri": "https://localhost:8080/"
        },
        "id": "ZjXI46QcnT3a",
        "outputId": "a0e0d2cf-ce2b-4c8c-ec07-a6fcd94e58bd"
      },
      "execution_count": null,
      "outputs": [
        {
          "output_type": "stream",
          "name": "stdout",
          "text": [
            "Mounted at /content/drive\n"
          ]
        }
      ]
    },
    {
      "cell_type": "code",
      "execution_count": null,
      "metadata": {
        "colab": {
          "base_uri": "https://localhost:8080/"
        },
        "id": "JyzUoFaLfgB5",
        "outputId": "18fe5539-fab8-4d10-820e-a3d9ade47081"
      },
      "outputs": [
        {
          "output_type": "stream",
          "name": "stdout",
          "text": [
            "Index(['t_dat', 'customer_id', 'article_id', 'price', 'sales_channel_id',\n",
            "       'product_code', 'prod_name', 'product_type_no', 'product_type_name',\n",
            "       'product_group_name', 'graphical_appearance_no',\n",
            "       'graphical_appearance_name', 'colour_group_code', 'colour_group_name',\n",
            "       'perceived_colour_value_id', 'perceived_colour_value_name',\n",
            "       'perceived_colour_master_id', 'perceived_colour_master_name',\n",
            "       'department_no', 'department_name', 'index_code', 'index_name',\n",
            "       'index_group_no', 'index_group_name', 'section_no', 'section_name',\n",
            "       'garment_group_no', 'garment_group_name', 'detail_desc', 'FN', 'Active',\n",
            "       'club_member_status', 'fashion_news_frequency', 'age', 'postal_code'],\n",
            "      dtype='object')\n",
            "product_group_name\n",
            "Garment Upper body     499296\n",
            "Garment Lower body     231284\n",
            "Underwear               63964\n",
            "Garment Full body       61497\n",
            "Accessories             53055\n",
            "Socks & Tights          31011\n",
            "Shoes                   24995\n",
            "Swimwear                22720\n",
            "Nightwear               11139\n",
            "Unknown                   607\n",
            "Cosmetic                  201\n",
            "Items                     140\n",
            "Underwear/nightwear        82\n",
            "Interior textile            8\n",
            "Bags                        1\n",
            "Name: count, dtype: int64\n",
            "{'Accessories': 0, 'Garment Full body': 1, 'Garment Lower body': 2, 'Garment Upper body': 3, 'Nightwear': 4, 'Shoes': 5, 'Socks & Tights': 6, 'Swimwear': 7, 'Underwear': 8}\n"
          ]
        }
      ],
      "source": [
        "import pandas as pd\n",
        "\n",
        "customers_df = pd.read_csv(\"/content/drive/My Drive/MGTE/4B/546/customers.csv\")\n",
        "articles_df = pd.read_csv(\"/content/drive/My Drive/MGTE/4B/546/articles.csv\")\n",
        "transactions_iter = pd.read_csv(\"/content/drive/My Drive/MGTE/4B/546/Transactions Train.csv\", chunksize=1000000)\n",
        "transactions_df = next(transactions_iter)\n",
        "\n",
        "merged_df = transactions_df.merge(articles_df, on=\"article_id\", how=\"left\")\n",
        "merged_df = merged_df.merge(customers_df, on=\"customer_id\", how=\"left\")\n",
        "print(merged_df.columns)\n",
        "\n",
        "# identifying major categories\n",
        "print(merged_df[\"product_group_name\"].value_counts())\n",
        "top_categories = merged_df[\"product_group_name\"].value_counts().index[:9]\n",
        "\n",
        "\n",
        "merged_df = merged_df[merged_df[\"product_group_name\"].isin(top_categories)]\n",
        "\n",
        "# Label encoding majore categories\n",
        "from sklearn.preprocessing import LabelEncoder\n",
        "label_encoder = LabelEncoder()\n",
        "merged_df[\"target\"] = label_encoder.fit_transform(merged_df[\"product_group_name\"])\n",
        "\n",
        "category_mapping = dict(zip(label_encoder.classes_, label_encoder.transform(label_encoder.classes_)))\n",
        "print(category_mapping)"
      ]
    },
    {
      "cell_type": "code",
      "source": [
        "# data processing and feature engineering\n",
        "\n",
        "from sklearn.preprocessing import OneHotEncoder\n",
        "\n",
        "categorical_cols = [\"club_member_status\", \"fashion_news_frequency\", \"sales_channel_id\"]\n",
        "encoder = OneHotEncoder(handle_unknown=\"ignore\", sparse_output=False)\n",
        "encoded_features = encoder.fit_transform(merged_df[categorical_cols])\n",
        "encoded_df = pd.DataFrame(encoded_features, columns=encoder.get_feature_names_out(categorical_cols))\n",
        "\n",
        "#total customer purchases feature\n",
        "customer_total_purchases = merged_df.groupby(\"customer_id\")[\"article_id\"].count().reset_index()\n",
        "customer_total_purchases.rename(columns={\"article_id\": \"total_purchases\"}, inplace=True)\n",
        "\n",
        "merged_df = merged_df.merge(customer_total_purchases, on=\"customer_id\", how=\"left\")\n",
        "\n",
        "# days since last purchase feature\n",
        "merged_df[\"t_dat\"] = pd.to_datetime(merged_df[\"t_dat\"])\n",
        "last_purchase = merged_df.groupby(\"customer_id\")[\"t_dat\"].max().reset_index()\n",
        "last_purchase[\"days_since_last_purchase\"] = (merged_df[\"t_dat\"].max() - last_purchase[\"t_dat\"]).dt.days\n",
        "\n",
        "merged_df = merged_df.merge(last_purchase[[\"customer_id\", \"days_since_last_purchase\"]], on=\"customer_id\", how=\"left\")\n",
        "\n",
        "# customer purchases by category\n",
        "customer_category_counts = merged_df.groupby([\"customer_id\", \"product_group_name\"])[\"article_id\"].count().reset_index()\n",
        "customer_category_counts.rename(columns={\"article_id\": \"purchase_count\"}, inplace=True)\n",
        "\n",
        "customer_purchase_history = customer_category_counts.pivot(index=\"customer_id\", columns=\"product_group_name\", values=\"purchase_count\").fillna(0)\n",
        "\n",
        "merged_df = merged_df.merge(customer_purchase_history, on=\"customer_id\", how=\"left\")\n",
        "\n",
        "# Fill missing numerical values\n",
        "merged_df[\"age\"].fillna(merged_df[\"age\"].median(), inplace=True)\n",
        "merged_df[\"price\"].fillna(merged_df[\"price\"].median(), inplace=True)\n",
        "merged_df[\"total_purchases\"].fillna(0, inplace=True)\n",
        "merged_df[\"days_since_last_purchase\"].fillna(merged_df[\"days_since_last_purchase\"].median(), inplace=True)\n",
        "\n",
        "# Concatenate encoded categorical features with merged_df\n",
        "merged_df = pd.concat([merged_df, encoded_df], axis=1)"
      ],
      "metadata": {
        "colab": {
          "base_uri": "https://localhost:8080/"
        },
        "id": "OUbl_PsQrz8T",
        "outputId": "a2f10b79-533d-43cc-c061-546134a7b830"
      },
      "execution_count": null,
      "outputs": [
        {
          "output_type": "stream",
          "name": "stderr",
          "text": [
            "<ipython-input-12-8f45c108f170>:32: FutureWarning: A value is trying to be set on a copy of a DataFrame or Series through chained assignment using an inplace method.\n",
            "The behavior will change in pandas 3.0. This inplace method will never work because the intermediate object on which we are setting values always behaves as a copy.\n",
            "\n",
            "For example, when doing 'df[col].method(value, inplace=True)', try using 'df.method({col: value}, inplace=True)' or df[col] = df[col].method(value) instead, to perform the operation inplace on the original object.\n",
            "\n",
            "\n",
            "  merged_df[\"age\"].fillna(merged_df[\"age\"].median(), inplace=True)\n",
            "<ipython-input-12-8f45c108f170>:33: FutureWarning: A value is trying to be set on a copy of a DataFrame or Series through chained assignment using an inplace method.\n",
            "The behavior will change in pandas 3.0. This inplace method will never work because the intermediate object on which we are setting values always behaves as a copy.\n",
            "\n",
            "For example, when doing 'df[col].method(value, inplace=True)', try using 'df.method({col: value}, inplace=True)' or df[col] = df[col].method(value) instead, to perform the operation inplace on the original object.\n",
            "\n",
            "\n",
            "  merged_df[\"price\"].fillna(merged_df[\"price\"].median(), inplace=True)\n",
            "<ipython-input-12-8f45c108f170>:34: FutureWarning: A value is trying to be set on a copy of a DataFrame or Series through chained assignment using an inplace method.\n",
            "The behavior will change in pandas 3.0. This inplace method will never work because the intermediate object on which we are setting values always behaves as a copy.\n",
            "\n",
            "For example, when doing 'df[col].method(value, inplace=True)', try using 'df.method({col: value}, inplace=True)' or df[col] = df[col].method(value) instead, to perform the operation inplace on the original object.\n",
            "\n",
            "\n",
            "  merged_df[\"total_purchases\"].fillna(0, inplace=True)\n",
            "<ipython-input-12-8f45c108f170>:35: FutureWarning: A value is trying to be set on a copy of a DataFrame or Series through chained assignment using an inplace method.\n",
            "The behavior will change in pandas 3.0. This inplace method will never work because the intermediate object on which we are setting values always behaves as a copy.\n",
            "\n",
            "For example, when doing 'df[col].method(value, inplace=True)', try using 'df.method({col: value}, inplace=True)' or df[col] = df[col].method(value) instead, to perform the operation inplace on the original object.\n",
            "\n",
            "\n",
            "  merged_df[\"days_since_last_purchase\"].fillna(merged_df[\"days_since_last_purchase\"].median(), inplace=True)\n"
          ]
        }
      ]
    },
    {
      "cell_type": "code",
      "source": [
        "# Finalizing training data\n",
        "from sklearn.preprocessing import StandardScaler\n",
        "\n",
        "selected_features = [\"price\", \"age\", \"total_purchases\", \"days_since_last_purchase\"]\n",
        "selected_features += encoded_df.columns.tolist()\n",
        "selected_features += customer_purchase_history.columns.tolist()\n",
        "\n",
        "X = merged_df[selected_features]\n",
        "y = merged_df[\"target\"]\n",
        "\n",
        "\n",
        "scaler = StandardScaler()\n",
        "X_scaled = scaler.fit_transform(X)"
      ],
      "metadata": {
        "id": "XJlimoE0r9Bf"
      },
      "execution_count": null,
      "outputs": []
    },
    {
      "cell_type": "code",
      "source": [
        "# Split training data\n",
        "from sklearn.model_selection import train_test_split\n",
        "\n",
        "X_train, X_test, y_train, y_test = train_test_split(X_scaled, y, test_size=0.2, random_state=42, stratify=y)"
      ],
      "metadata": {
        "id": "OcZMp6P4sBnC"
      },
      "execution_count": null,
      "outputs": []
    },
    {
      "cell_type": "code",
      "source": [
        "import xgboost as xgb\n",
        "from sklearn.metrics import accuracy_score, classification_report\n",
        "import numpy as np\n",
        "\n",
        "# convert training and test sets into DMatrix\n",
        "dtrain = xgb.DMatrix(X_train, label=y_train)\n",
        "dtest = xgb.DMatrix(X_test, label=y_test)\n",
        "\n",
        "# parameters for multi-class classification\n",
        "num_classes = y.nunique()\n",
        "params = {\n",
        "    'objective': 'multi:softprob',\n",
        "    'num_class': num_classes,\n",
        "    'eta': 0.1,\n",
        "    'max_depth': 6,\n",
        "    'eval_metric': 'mlogloss',\n",
        "    'seed': 42\n",
        "}\n",
        "\n",
        "num_rounds = 100\n",
        "watchlist = [(dtrain, 'train'), (dtest, 'eval')]\n",
        "model = xgb.train(params, dtrain, num_rounds, watchlist, early_stopping_rounds=10)\n",
        "\n",
        "y_pred_proba = model.predict(dtest)\n",
        "y_pred = np.argmax(y_pred_proba, axis=1)\n"
      ],
      "metadata": {
        "colab": {
          "base_uri": "https://localhost:8080/"
        },
        "id": "leZlodcgs4kh",
        "outputId": "5fefc366-21d3-4f0a-826c-5e567c1cf597"
      },
      "execution_count": 16,
      "outputs": [
        {
          "output_type": "stream",
          "name": "stderr",
          "text": [
            "/usr/local/lib/python3.11/dist-packages/xgboost/core.py:723: FutureWarning: Pass `evals` as keyword args.\n",
            "  warnings.warn(msg, FutureWarning)\n"
          ]
        },
        {
          "output_type": "stream",
          "name": "stdout",
          "text": [
            "[0]\ttrain-mlogloss:1.96587\teval-mlogloss:1.96608\n",
            "[1]\ttrain-mlogloss:1.79765\teval-mlogloss:1.79805\n",
            "[2]\ttrain-mlogloss:1.66408\teval-mlogloss:1.66456\n",
            "[3]\ttrain-mlogloss:1.55414\teval-mlogloss:1.55470\n",
            "[4]\ttrain-mlogloss:1.46124\teval-mlogloss:1.46188\n",
            "[5]\ttrain-mlogloss:1.38122\teval-mlogloss:1.38191\n",
            "[6]\ttrain-mlogloss:1.31175\teval-mlogloss:1.31255\n",
            "[7]\ttrain-mlogloss:1.25046\teval-mlogloss:1.25134\n",
            "[8]\ttrain-mlogloss:1.19619\teval-mlogloss:1.19712\n",
            "[9]\ttrain-mlogloss:1.14782\teval-mlogloss:1.14879\n",
            "[10]\ttrain-mlogloss:1.10463\teval-mlogloss:1.10571\n",
            "[11]\ttrain-mlogloss:1.06559\teval-mlogloss:1.06676\n",
            "[12]\ttrain-mlogloss:1.03050\teval-mlogloss:1.03174\n",
            "[13]\ttrain-mlogloss:0.99884\teval-mlogloss:1.00013\n",
            "[14]\ttrain-mlogloss:0.97012\teval-mlogloss:0.97146\n",
            "[15]\ttrain-mlogloss:0.94399\teval-mlogloss:0.94538\n",
            "[16]\ttrain-mlogloss:0.92018\teval-mlogloss:0.92163\n",
            "[17]\ttrain-mlogloss:0.89842\teval-mlogloss:0.89992\n",
            "[18]\ttrain-mlogloss:0.87850\teval-mlogloss:0.88003\n",
            "[19]\ttrain-mlogloss:0.86027\teval-mlogloss:0.86188\n",
            "[20]\ttrain-mlogloss:0.84363\teval-mlogloss:0.84528\n",
            "[21]\ttrain-mlogloss:0.82827\teval-mlogloss:0.82997\n",
            "[22]\ttrain-mlogloss:0.81414\teval-mlogloss:0.81588\n",
            "[23]\ttrain-mlogloss:0.80109\teval-mlogloss:0.80289\n",
            "[24]\ttrain-mlogloss:0.78907\teval-mlogloss:0.79092\n",
            "[25]\ttrain-mlogloss:0.77792\teval-mlogloss:0.77983\n",
            "[26]\ttrain-mlogloss:0.76766\teval-mlogloss:0.76962\n",
            "[27]\ttrain-mlogloss:0.75823\teval-mlogloss:0.76024\n",
            "[28]\ttrain-mlogloss:0.74939\teval-mlogloss:0.75142\n",
            "[29]\ttrain-mlogloss:0.74135\teval-mlogloss:0.74339\n",
            "[30]\ttrain-mlogloss:0.73379\teval-mlogloss:0.73586\n",
            "[31]\ttrain-mlogloss:0.72687\teval-mlogloss:0.72896\n",
            "[32]\ttrain-mlogloss:0.72036\teval-mlogloss:0.72250\n",
            "[33]\ttrain-mlogloss:0.71416\teval-mlogloss:0.71634\n",
            "[34]\ttrain-mlogloss:0.70843\teval-mlogloss:0.71065\n",
            "[35]\ttrain-mlogloss:0.70319\teval-mlogloss:0.70545\n",
            "[36]\ttrain-mlogloss:0.69820\teval-mlogloss:0.70050\n",
            "[37]\ttrain-mlogloss:0.69360\teval-mlogloss:0.69594\n",
            "[38]\ttrain-mlogloss:0.68911\teval-mlogloss:0.69149\n",
            "[39]\ttrain-mlogloss:0.68505\teval-mlogloss:0.68749\n",
            "[40]\ttrain-mlogloss:0.68125\teval-mlogloss:0.68372\n",
            "[41]\ttrain-mlogloss:0.67754\teval-mlogloss:0.68006\n",
            "[42]\ttrain-mlogloss:0.67417\teval-mlogloss:0.67673\n",
            "[43]\ttrain-mlogloss:0.67101\teval-mlogloss:0.67361\n",
            "[44]\ttrain-mlogloss:0.66797\teval-mlogloss:0.67061\n",
            "[45]\ttrain-mlogloss:0.66501\teval-mlogloss:0.66769\n",
            "[46]\ttrain-mlogloss:0.66231\teval-mlogloss:0.66503\n",
            "[47]\ttrain-mlogloss:0.65979\teval-mlogloss:0.66257\n",
            "[48]\ttrain-mlogloss:0.65723\teval-mlogloss:0.66004\n",
            "[49]\ttrain-mlogloss:0.65496\teval-mlogloss:0.65782\n",
            "[50]\ttrain-mlogloss:0.65280\teval-mlogloss:0.65570\n",
            "[51]\ttrain-mlogloss:0.65072\teval-mlogloss:0.65366\n",
            "[52]\ttrain-mlogloss:0.64880\teval-mlogloss:0.65179\n",
            "[53]\ttrain-mlogloss:0.64690\teval-mlogloss:0.64992\n",
            "[54]\ttrain-mlogloss:0.64511\teval-mlogloss:0.64817\n",
            "[55]\ttrain-mlogloss:0.64352\teval-mlogloss:0.64662\n",
            "[56]\ttrain-mlogloss:0.64195\teval-mlogloss:0.64509\n",
            "[57]\ttrain-mlogloss:0.64042\teval-mlogloss:0.64361\n",
            "[58]\ttrain-mlogloss:0.63903\teval-mlogloss:0.64225\n",
            "[59]\ttrain-mlogloss:0.63755\teval-mlogloss:0.64082\n",
            "[60]\ttrain-mlogloss:0.63619\teval-mlogloss:0.63949\n",
            "[61]\ttrain-mlogloss:0.63492\teval-mlogloss:0.63826\n",
            "[62]\ttrain-mlogloss:0.63369\teval-mlogloss:0.63706\n",
            "[63]\ttrain-mlogloss:0.63251\teval-mlogloss:0.63592\n",
            "[64]\ttrain-mlogloss:0.63147\teval-mlogloss:0.63494\n",
            "[65]\ttrain-mlogloss:0.63037\teval-mlogloss:0.63390\n",
            "[66]\ttrain-mlogloss:0.62937\teval-mlogloss:0.63291\n",
            "[67]\ttrain-mlogloss:0.62843\teval-mlogloss:0.63201\n",
            "[68]\ttrain-mlogloss:0.62754\teval-mlogloss:0.63117\n",
            "[69]\ttrain-mlogloss:0.62672\teval-mlogloss:0.63039\n",
            "[70]\ttrain-mlogloss:0.62587\teval-mlogloss:0.62957\n",
            "[71]\ttrain-mlogloss:0.62514\teval-mlogloss:0.62888\n",
            "[72]\ttrain-mlogloss:0.62435\teval-mlogloss:0.62812\n",
            "[73]\ttrain-mlogloss:0.62362\teval-mlogloss:0.62743\n",
            "[74]\ttrain-mlogloss:0.62291\teval-mlogloss:0.62676\n",
            "[75]\ttrain-mlogloss:0.62219\teval-mlogloss:0.62609\n",
            "[76]\ttrain-mlogloss:0.62145\teval-mlogloss:0.62537\n",
            "[77]\ttrain-mlogloss:0.62082\teval-mlogloss:0.62478\n",
            "[78]\ttrain-mlogloss:0.62024\teval-mlogloss:0.62425\n",
            "[79]\ttrain-mlogloss:0.61968\teval-mlogloss:0.62374\n",
            "[80]\ttrain-mlogloss:0.61909\teval-mlogloss:0.62319\n",
            "[81]\ttrain-mlogloss:0.61859\teval-mlogloss:0.62273\n",
            "[82]\ttrain-mlogloss:0.61809\teval-mlogloss:0.62226\n",
            "[83]\ttrain-mlogloss:0.61762\teval-mlogloss:0.62183\n",
            "[84]\ttrain-mlogloss:0.61714\teval-mlogloss:0.62139\n",
            "[85]\ttrain-mlogloss:0.61667\teval-mlogloss:0.62097\n",
            "[86]\ttrain-mlogloss:0.61622\teval-mlogloss:0.62056\n",
            "[87]\ttrain-mlogloss:0.61576\teval-mlogloss:0.62014\n",
            "[88]\ttrain-mlogloss:0.61532\teval-mlogloss:0.61974\n",
            "[89]\ttrain-mlogloss:0.61496\teval-mlogloss:0.61941\n",
            "[90]\ttrain-mlogloss:0.61458\teval-mlogloss:0.61908\n",
            "[91]\ttrain-mlogloss:0.61419\teval-mlogloss:0.61872\n",
            "[92]\ttrain-mlogloss:0.61382\teval-mlogloss:0.61838\n",
            "[93]\ttrain-mlogloss:0.61348\teval-mlogloss:0.61808\n",
            "[94]\ttrain-mlogloss:0.61310\teval-mlogloss:0.61776\n",
            "[95]\ttrain-mlogloss:0.61280\teval-mlogloss:0.61748\n",
            "[96]\ttrain-mlogloss:0.61251\teval-mlogloss:0.61723\n",
            "[97]\ttrain-mlogloss:0.61220\teval-mlogloss:0.61696\n",
            "[98]\ttrain-mlogloss:0.61192\teval-mlogloss:0.61672\n",
            "[99]\ttrain-mlogloss:0.61162\teval-mlogloss:0.61646\n"
          ]
        }
      ]
    },
    {
      "cell_type": "code",
      "source": [
        "accuracy = accuracy_score(y_test, y_pred)\n",
        "print(\"Test Accuracy: {:.2f}%\".format(accuracy * 100))\n",
        "print(\"\\nClassification Report:\")\n",
        "print(classification_report(y_test, y_pred))"
      ],
      "metadata": {
        "colab": {
          "base_uri": "https://localhost:8080/"
        },
        "id": "OM8rFXl6toeB",
        "outputId": "8e0b5eb4-0db2-430f-b850-939743986958"
      },
      "execution_count": 17,
      "outputs": [
        {
          "output_type": "stream",
          "name": "stdout",
          "text": [
            "Test Accuracy: 72.05%\n",
            "\n",
            "Classification Report:\n",
            "              precision    recall  f1-score   support\n",
            "\n",
            "           0       0.71      0.55      0.62     10611\n",
            "           1       0.65      0.49      0.56     12299\n",
            "           2       0.68      0.62      0.65     46257\n",
            "           3       0.75      0.84      0.79     99860\n",
            "           4       0.64      0.36      0.46      2228\n",
            "           5       0.67      0.48      0.56      4999\n",
            "           6       0.66      0.70      0.68      6202\n",
            "           7       0.72      0.74      0.73      4544\n",
            "           8       0.73      0.67      0.70     12793\n",
            "\n",
            "    accuracy                           0.72    199793\n",
            "   macro avg       0.69      0.60      0.64    199793\n",
            "weighted avg       0.72      0.72      0.71    199793\n",
            "\n"
          ]
        }
      ]
    }
  ]
}