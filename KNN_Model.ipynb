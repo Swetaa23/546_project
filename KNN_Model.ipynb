{
  "cells": [
    {
      "cell_type": "code",
      "execution_count": null,
      "metadata": {
        "colab": {
          "base_uri": "https://localhost:8080/"
        },
        "id": "6eOp3l5H_nsM",
        "outputId": "c8acac38-094f-4ff3-f298-a162cf33b83a"
      },
      "outputs": [
        {
          "output_type": "stream",
          "name": "stdout",
          "text": [
            "Mounted at /content/drive\n"
          ]
        }
      ],
      "source": [
        "from google.colab import drive\n",
        "drive.mount('/content/drive')"
      ]
    },
    {
      "cell_type": "code",
      "execution_count": null,
      "metadata": {
        "id": "-KpdBN7fAjgJ"
      },
      "outputs": [],
      "source": [
        "import pandas as pd\n",
        "import numpy as np\n",
        "import seaborn as sns\n",
        "from matplotlib import pyplot as plt\n",
        "from sklearn.preprocessing import LabelEncoder, OneHotEncoder, StandardScaler\n",
        "from sklearn.model_selection import train_test_split\n",
        "from sklearn.neighbors import KNeighborsClassifier\n",
        "from sklearn.metrics import accuracy_score, classification_report"
      ]
    },
    {
      "cell_type": "code",
      "execution_count": null,
      "metadata": {
        "id": "BzjcwMUWAIBs"
      },
      "outputs": [],
      "source": [
        "articles = pd.read_csv('/content/drive/MyDrive/articles.csv')\n",
        "customers = pd.read_csv('/content/drive/MyDrive/customers.csv')\n",
        "transactions = pd.read_csv('/content/drive/MyDrive/transactions_train.csv', chunksize=1000000)"
      ]
    },
    {
      "cell_type": "code",
      "execution_count": null,
      "metadata": {
        "colab": {
          "base_uri": "https://localhost:8080/"
        },
        "id": "S419YxZD_lvn",
        "outputId": "94f27720-5a48-47e7-f76e-5eecf07cc10f"
      },
      "outputs": [
        {
          "output_type": "stream",
          "name": "stdout",
          "text": [
            "Index(['t_dat', 'customer_id', 'article_id', 'price', 'sales_channel_id',\n",
            "       'product_code', 'prod_name', 'product_type_no', 'product_type_name',\n",
            "       'product_group_name', 'graphical_appearance_no',\n",
            "       'graphical_appearance_name', 'colour_group_code', 'colour_group_name',\n",
            "       'perceived_colour_value_id', 'perceived_colour_value_name',\n",
            "       'perceived_colour_master_id', 'perceived_colour_master_name',\n",
            "       'department_no', 'department_name', 'index_code', 'index_name',\n",
            "       'index_group_no', 'index_group_name', 'section_no', 'section_name',\n",
            "       'garment_group_no', 'garment_group_name', 'detail_desc', 'FN', 'Active',\n",
            "       'club_member_status', 'fashion_news_frequency', 'age', 'postal_code'],\n",
            "      dtype='object')\n",
            "product_group_name\n",
            "Garment Upper body     499296\n",
            "Garment Lower body     231284\n",
            "Underwear               63964\n",
            "Garment Full body       61497\n",
            "Accessories             53055\n",
            "Socks & Tights          31011\n",
            "Shoes                   24995\n",
            "Swimwear                22720\n",
            "Nightwear               11139\n",
            "Unknown                   607\n",
            "Cosmetic                  201\n",
            "Items                     140\n",
            "Underwear/nightwear        82\n",
            "Interior textile            8\n",
            "Bags                        1\n",
            "Name: count, dtype: int64\n",
            "{'Accessories': 0, 'Garment Full body': 1, 'Garment Lower body': 2, 'Garment Upper body': 3, 'Nightwear': 4, 'Shoes': 5, 'Socks & Tights': 6, 'Swimwear': 7, 'Underwear': 8}\n"
          ]
        },
        {
          "output_type": "stream",
          "name": "stderr",
          "text": [
            "<ipython-input-4-a4c2670ca9ee>:18: SettingWithCopyWarning: \n",
            "A value is trying to be set on a copy of a slice from a DataFrame.\n",
            "Try using .loc[row_indexer,col_indexer] = value instead\n",
            "\n",
            "See the caveats in the documentation: https://pandas.pydata.org/pandas-docs/stable/user_guide/indexing.html#returning-a-view-versus-a-copy\n",
            "  merged_df[\"target\"] = label_encoder.fit_transform(merged_df[\"product_group_name\"])\n"
          ]
        }
      ],
      "source": [
        "# loading in and merging data\n",
        "\n",
        "transactions_df = next(transactions)\n",
        "\n",
        "merged_df = transactions_df.merge(articles, on=\"article_id\", how=\"left\")\n",
        "merged_df = merged_df.merge(customers, on=\"customer_id\", how=\"left\")\n",
        "print(merged_df.columns)\n",
        "\n",
        "# identifying major categories\n",
        "print(merged_df[\"product_group_name\"].value_counts())\n",
        "top_categories = merged_df[\"product_group_name\"].value_counts().index[:9]\n",
        "\n",
        "\n",
        "merged_df = merged_df[merged_df[\"product_group_name\"].isin(top_categories)]\n",
        "\n",
        "# Label encoding majore categories\n",
        "label_encoder = LabelEncoder()\n",
        "merged_df[\"target\"] = label_encoder.fit_transform(merged_df[\"product_group_name\"])\n",
        "\n",
        "category_mapping = dict(zip(label_encoder.classes_, label_encoder.transform(label_encoder.classes_)))\n",
        "print(category_mapping)\n"
      ]
    },
    {
      "cell_type": "code",
      "execution_count": null,
      "metadata": {
        "colab": {
          "base_uri": "https://localhost:8080/"
        },
        "id": "Td9k8GlfkeYY",
        "outputId": "61d0e613-dd31-4009-c979-5d602806697f"
      },
      "outputs": [
        {
          "output_type": "stream",
          "name": "stderr",
          "text": [
            "<ipython-input-5-0457a6b48c56>:25: FutureWarning: A value is trying to be set on a copy of a DataFrame or Series through chained assignment using an inplace method.\n",
            "The behavior will change in pandas 3.0. This inplace method will never work because the intermediate object on which we are setting values always behaves as a copy.\n",
            "\n",
            "For example, when doing 'df[col].method(value, inplace=True)', try using 'df.method({col: value}, inplace=True)' or df[col] = df[col].method(value) instead, to perform the operation inplace on the original object.\n",
            "\n",
            "\n",
            "  merged_df[\"age\"].fillna(merged_df[\"age\"].median(), inplace=True)\n",
            "<ipython-input-5-0457a6b48c56>:26: FutureWarning: A value is trying to be set on a copy of a DataFrame or Series through chained assignment using an inplace method.\n",
            "The behavior will change in pandas 3.0. This inplace method will never work because the intermediate object on which we are setting values always behaves as a copy.\n",
            "\n",
            "For example, when doing 'df[col].method(value, inplace=True)', try using 'df.method({col: value}, inplace=True)' or df[col] = df[col].method(value) instead, to perform the operation inplace on the original object.\n",
            "\n",
            "\n",
            "  merged_df[\"price\"].fillna(merged_df[\"price\"].median(), inplace=True)\n",
            "<ipython-input-5-0457a6b48c56>:27: FutureWarning: A value is trying to be set on a copy of a DataFrame or Series through chained assignment using an inplace method.\n",
            "The behavior will change in pandas 3.0. This inplace method will never work because the intermediate object on which we are setting values always behaves as a copy.\n",
            "\n",
            "For example, when doing 'df[col].method(value, inplace=True)', try using 'df.method({col: value}, inplace=True)' or df[col] = df[col].method(value) instead, to perform the operation inplace on the original object.\n",
            "\n",
            "\n",
            "  merged_df[\"total_purchases\"].fillna(0, inplace=True)\n",
            "<ipython-input-5-0457a6b48c56>:28: FutureWarning: A value is trying to be set on a copy of a DataFrame or Series through chained assignment using an inplace method.\n",
            "The behavior will change in pandas 3.0. This inplace method will never work because the intermediate object on which we are setting values always behaves as a copy.\n",
            "\n",
            "For example, when doing 'df[col].method(value, inplace=True)', try using 'df.method({col: value}, inplace=True)' or df[col] = df[col].method(value) instead, to perform the operation inplace on the original object.\n",
            "\n",
            "\n",
            "  merged_df[\"days_since_last_purchase\"].fillna(merged_df[\"days_since_last_purchase\"].median(), inplace=True)\n"
          ]
        }
      ],
      "source": [
        "# One-hot encoding categorical variables\n",
        "categorical_cols = [\"club_member_status\", \"fashion_news_frequency\", \"sales_channel_id\"]\n",
        "encoder = OneHotEncoder(handle_unknown=\"ignore\", sparse_output=False)\n",
        "encoded_features = encoder.fit_transform(merged_df[categorical_cols])\n",
        "encoded_df = pd.DataFrame(encoded_features, columns=encoder.get_feature_names_out(categorical_cols))\n",
        "\n",
        "# Total customer purchases feature\n",
        "customer_total_purchases = merged_df.groupby(\"customer_id\")[\"article_id\"].count().reset_index()\n",
        "customer_total_purchases.rename(columns={\"article_id\": \"total_purchases\"}, inplace=True)\n",
        "merged_df = merged_df.merge(customer_total_purchases, on=\"customer_id\", how=\"left\")\n",
        "\n",
        "# Days since last purchase feature\n",
        "merged_df[\"t_dat\"] = pd.to_datetime(merged_df[\"t_dat\"])\n",
        "last_purchase = merged_df.groupby(\"customer_id\")[\"t_dat\"].max().reset_index()\n",
        "last_purchase[\"days_since_last_purchase\"] = (merged_df[\"t_dat\"].max() - last_purchase[\"t_dat\"]).dt.days\n",
        "merged_df = merged_df.merge(last_purchase[[\"customer_id\", \"days_since_last_purchase\"]], on=\"customer_id\", how=\"left\")\n",
        "\n",
        "# Customer purchases by category\n",
        "customer_category_counts = merged_df.groupby([\"customer_id\", \"product_group_name\"])[\"article_id\"].count().reset_index()\n",
        "customer_category_counts.rename(columns={\"article_id\": \"purchase_count\"}, inplace=True)\n",
        "customer_purchase_history = customer_category_counts.pivot(index=\"customer_id\", columns=\"product_group_name\", values=\"purchase_count\").fillna(0)\n",
        "merged_df = merged_df.merge(customer_purchase_history, on=\"customer_id\", how=\"left\")\n",
        "\n",
        "# Fill missing numerical values\n",
        "merged_df[\"age\"].fillna(merged_df[\"age\"].median(), inplace=True)\n",
        "merged_df[\"price\"].fillna(merged_df[\"price\"].median(), inplace=True)\n",
        "merged_df[\"total_purchases\"].fillna(0, inplace=True)\n",
        "merged_df[\"days_since_last_purchase\"].fillna(merged_df[\"days_since_last_purchase\"].median(), inplace=True)\n",
        "\n",
        "# Concatenate encoded categorical features with merged_df\n",
        "merged_df = pd.concat([merged_df, encoded_df], axis=1)\n",
        "\n",
        "# Feature selection\n",
        "selected_features = [\"price\", \"age\", \"total_purchases\", \"days_since_last_purchase\"]\n",
        "selected_features += encoded_df.columns.tolist()\n",
        "selected_features += customer_purchase_history.columns.tolist()\n"
      ]
    },
    {
      "cell_type": "code",
      "execution_count": null,
      "metadata": {
        "colab": {
          "base_uri": "https://localhost:8080/"
        },
        "id": "8z12Sz6LlrFM",
        "outputId": "054765af-26da-4f9f-e5d6-8bd7975854b4"
      },
      "outputs": [
        {
          "output_type": "stream",
          "name": "stdout",
          "text": [
            "KNN Model Accuracy: 0.6327\n",
            "Classification Report:\n",
            "                     precision    recall  f1-score   support\n",
            "\n",
            "       Accessories       0.50      0.52      0.51      1066\n",
            " Garment Full body       0.47      0.42      0.45      1223\n",
            "Garment Lower body       0.56      0.53      0.54      4594\n",
            "Garment Upper body       0.70      0.76      0.73     10012\n",
            "         Nightwear       0.43      0.32      0.37       221\n",
            "             Shoes       0.57      0.39      0.46       499\n",
            "    Socks & Tights       0.58      0.53      0.55       622\n",
            "          Swimwear       0.66      0.63      0.65       465\n",
            "         Underwear       0.65      0.52      0.58      1278\n",
            "\n",
            "          accuracy                           0.63     19980\n",
            "         macro avg       0.57      0.51      0.54     19980\n",
            "      weighted avg       0.63      0.63      0.63     19980\n",
            "\n"
          ]
        }
      ],
      "source": [
        "sampled_df = merged_df.sample(frac=0.1, random_state=42)  # Use 10% of the data\n",
        "X = sampled_df[selected_features]\n",
        "y = sampled_df[\"target\"]\n",
        "\n",
        "\n",
        "# Standardizing features\n",
        "scaler = StandardScaler()\n",
        "X_scaled = scaler.fit_transform(X)\n",
        "\n",
        "# Splitting data\n",
        "X_train, X_test, y_train, y_test = train_test_split(X_scaled, y, test_size=0.2, random_state=42, stratify=y)\n",
        "\n",
        "# Train KNN model\n",
        "knn = KNeighborsClassifier(n_neighbors=5, weights='uniform', metric='minkowski')\n",
        "knn.fit(X_train, y_train)\n",
        "\n",
        "# Predictions\n",
        "y_pred = knn.predict(X_test)\n",
        "\n",
        "# Model evaluation\n",
        "accuracy = accuracy_score(y_test, y_pred)\n",
        "print(f\"KNN Model Accuracy: {accuracy:.4f}\")\n",
        "\n",
        "report = classification_report(y_test, y_pred, target_names=label_encoder.classes_)\n",
        "print(\"Classification Report:\\n\", report)"
      ]
    }
  ],
  "metadata": {
    "colab": {
      "provenance": []
    },
    "kernelspec": {
      "display_name": "Python 3",
      "language": "python",
      "name": "python3"
    },
    "language_info": {
      "codemirror_mode": {
        "name": "ipython",
        "version": 3
      },
      "file_extension": ".py",
      "mimetype": "text/x-python",
      "name": "python",
      "nbconvert_exporter": "python",
      "pygments_lexer": "ipython3",
      "version": "3.12.4"
    }
  },
  "nbformat": 4,
  "nbformat_minor": 0
}