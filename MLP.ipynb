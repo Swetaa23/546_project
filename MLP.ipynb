{
  "cells": [
    {
      "cell_type": "markdown",
      "metadata": {
        "id": "view-in-github",
        "colab_type": "text"
      },
      "source": [
        "<a href=\"https://colab.research.google.com/github/Swetaa23/546_project/blob/main/MLP.ipynb\" target=\"_parent\"><img src=\"https://colab.research.google.com/assets/colab-badge.svg\" alt=\"Open In Colab\"/></a>"
      ]
    },
    {
      "cell_type": "markdown",
      "metadata": {
        "id": "EjgQrPWQThKx"
      },
      "source": [
        "#### Mount Drive and Import"
      ]
    },
    {
      "cell_type": "code",
      "execution_count": 4,
      "metadata": {
        "colab": {
          "base_uri": "https://localhost:8080/"
        },
        "id": "W0zyE-HDTkDB",
        "outputId": "3d1e9e0a-00a9-4b80-b5ed-2d3089be8acc"
      },
      "outputs": [
        {
          "output_type": "stream",
          "name": "stdout",
          "text": [
            "Drive already mounted at /content/drive; to attempt to forcibly remount, call drive.mount(\"/content/drive\", force_remount=True).\n"
          ]
        }
      ],
      "source": [
        "from google.colab import drive\n",
        "drive.mount('/content/drive')\n",
        "\n",
        "import pandas as pd\n",
        "import numpy as np\n",
        "import matplotlib.pyplot as plt\n",
        "import tensorflow as tf\n",
        "import re\n",
        "\n",
        "from sklearn.preprocessing import LabelEncoder, OneHotEncoder, StandardScaler\n",
        "from sklearn.model_selection import train_test_split\n",
        "from sklearn.metrics import classification_report\n"
      ]
    },
    {
      "cell_type": "markdown",
      "metadata": {
        "id": "ppiKdvDPTn1k"
      },
      "source": [
        "#### Load Data"
      ]
    },
    {
      "cell_type": "code",
      "execution_count": 5,
      "metadata": {
        "colab": {
          "base_uri": "https://localhost:8080/"
        },
        "id": "KsbWXPXpTplg",
        "outputId": "2027c270-7c92-4fb8-809b-9551a09bd523"
      },
      "outputs": [
        {
          "output_type": "stream",
          "name": "stdout",
          "text": [
            "Customers: (1371980, 7)\n",
            "Articles: (105542, 25)\n",
            "Transactions: (31788324, 5)\n"
          ]
        }
      ],
      "source": [
        "customers_df = pd.read_csv(\"/content/drive/My Drive/MGTE/4B/546/customers.csv\")\n",
        "articles_df = pd.read_csv(\"/content/drive/My Drive/MGTE/4B/546/articles.csv\")\n",
        "transactions_df = pd.read_csv(\"/content/drive/My Drive/MGTE/4B/546/Transactions Train.csv\")\n",
        "\n",
        "print(\"Customers:\", customers_df.shape)\n",
        "print(\"Articles:\", articles_df.shape)\n",
        "print(\"Transactions:\", transactions_df.shape)\n"
      ]
    },
    {
      "cell_type": "markdown",
      "metadata": {
        "id": "aZhj5UyYT1fi"
      },
      "source": [
        "#### Merge Data"
      ]
    },
    {
      "cell_type": "code",
      "execution_count": 6,
      "metadata": {
        "id": "AW8NXpieT3H3",
        "colab": {
          "base_uri": "https://localhost:8080/"
        },
        "outputId": "e4f851b6-7cd3-40e0-a6d7-c0caa4f332e0"
      },
      "outputs": [
        {
          "output_type": "stream",
          "name": "stdout",
          "text": [
            "Merged DataFrame columns: Index(['t_dat', 'customer_id', 'article_id', 'price', 'sales_channel_id',\n",
            "       'product_code', 'prod_name', 'product_type_no', 'product_type_name',\n",
            "       'product_group_name', 'graphical_appearance_no',\n",
            "       'graphical_appearance_name', 'colour_group_code', 'colour_group_name',\n",
            "       'perceived_colour_value_id', 'perceived_colour_value_name',\n",
            "       'perceived_colour_master_id', 'perceived_colour_master_name',\n",
            "       'department_no', 'department_name', 'index_code', 'index_name',\n",
            "       'index_group_no', 'index_group_name', 'section_no', 'section_name',\n",
            "       'garment_group_no', 'garment_group_name', 'detail_desc', 'FN', 'Active',\n",
            "       'club_member_status', 'fashion_news_frequency', 'age', 'postal_code'],\n",
            "      dtype='object')\n"
          ]
        }
      ],
      "source": [
        "merged_df = transactions_df.merge(articles_df, on=\"article_id\", how=\"left\")\n",
        "merged_df = merged_df.merge(customers_df, on=\"customer_id\", how=\"left\")\n",
        "print(\"Merged DataFrame columns:\", merged_df.columns)\n"
      ]
    },
    {
      "cell_type": "markdown",
      "metadata": {
        "id": "rcS18H3bT4dI"
      },
      "source": [
        "#### Filter Top Categories & Encode Target"
      ]
    },
    {
      "cell_type": "code",
      "execution_count": 7,
      "metadata": {
        "id": "HRazRnHQT7YN",
        "colab": {
          "base_uri": "https://localhost:8080/"
        },
        "outputId": "199f7c49-2ba6-4a6a-eea7-fc4f827f0891"
      },
      "outputs": [
        {
          "output_type": "stream",
          "name": "stdout",
          "text": [
            "Product Group counts:\n",
            "product_group_name\n",
            "Garment Upper body       12552755\n",
            "Garment Lower body        7046054\n",
            "Garment Full body         3552470\n",
            "Swimwear                  2579222\n",
            "Underwear                 2565858\n",
            "Accessories               1599593\n",
            "Shoes                      745521\n",
            "Socks & Tights             685712\n",
            "Nightwear                  348180\n",
            "Unknown                     97040\n",
            "Bags                         7313\n",
            "Items                        5427\n",
            "Cosmetic                     1500\n",
            "Underwear/nightwear           559\n",
            "Furniture                     533\n",
            "Garment and Shoe care         279\n",
            "Stationery                    229\n",
            "Interior textile               74\n",
            "Fun                             5\n",
            "Name: count, dtype: int64\n",
            "Category mapping: {'Accessories': 0, 'Garment Full body': 1, 'Garment Lower body': 2, 'Garment Upper body': 3, 'Nightwear': 4, 'Shoes': 5, 'Socks & Tights': 6, 'Swimwear': 7, 'Underwear': 8}\n"
          ]
        }
      ],
      "source": [
        "# identify most common product groups\n",
        "print(\"Product Group counts:\")\n",
        "print(merged_df[\"product_group_name\"].value_counts())\n",
        "\n",
        "# Keep only the 9 most frequent product groups\n",
        "top_categories = merged_df[\"product_group_name\"].value_counts().index[:9]\n",
        "merged_df = merged_df[merged_df[\"product_group_name\"].isin(top_categories)].copy()\n",
        "\n",
        "# label encode the target variable (product_group_name)\n",
        "label_encoder = LabelEncoder()\n",
        "merged_df[\"target\"] = label_encoder.fit_transform(merged_df[\"product_group_name\"])\n",
        "print(\"Category mapping:\", dict(zip(label_encoder.classes_, label_encoder.transform(label_encoder.classes_))))\n"
      ]
    },
    {
      "cell_type": "markdown",
      "metadata": {
        "id": "cU_LOTWiUDfX"
      },
      "source": [
        "#### Data Processing & Feature Engineering"
      ]
    },
    {
      "cell_type": "code",
      "execution_count": 8,
      "metadata": {
        "id": "wYzASHCDUIf8",
        "colab": {
          "base_uri": "https://localhost:8080/"
        },
        "outputId": "91913129-35f3-4a68-89f6-dbba1106e38a"
      },
      "outputs": [
        {
          "output_type": "stream",
          "name": "stderr",
          "text": [
            "<ipython-input-8-86ecc476820d>:25: FutureWarning: A value is trying to be set on a copy of a DataFrame or Series through chained assignment using an inplace method.\n",
            "The behavior will change in pandas 3.0. This inplace method will never work because the intermediate object on which we are setting values always behaves as a copy.\n",
            "\n",
            "For example, when doing 'df[col].method(value, inplace=True)', try using 'df.method({col: value}, inplace=True)' or df[col] = df[col].method(value) instead, to perform the operation inplace on the original object.\n",
            "\n",
            "\n",
            "  merged_df[\"age\"].fillna(merged_df[\"age\"].median(), inplace=True)\n",
            "<ipython-input-8-86ecc476820d>:26: FutureWarning: A value is trying to be set on a copy of a DataFrame or Series through chained assignment using an inplace method.\n",
            "The behavior will change in pandas 3.0. This inplace method will never work because the intermediate object on which we are setting values always behaves as a copy.\n",
            "\n",
            "For example, when doing 'df[col].method(value, inplace=True)', try using 'df.method({col: value}, inplace=True)' or df[col] = df[col].method(value) instead, to perform the operation inplace on the original object.\n",
            "\n",
            "\n",
            "  merged_df[\"price\"].fillna(merged_df[\"price\"].median(), inplace=True)\n",
            "<ipython-input-8-86ecc476820d>:27: FutureWarning: A value is trying to be set on a copy of a DataFrame or Series through chained assignment using an inplace method.\n",
            "The behavior will change in pandas 3.0. This inplace method will never work because the intermediate object on which we are setting values always behaves as a copy.\n",
            "\n",
            "For example, when doing 'df[col].method(value, inplace=True)', try using 'df.method({col: value}, inplace=True)' or df[col] = df[col].method(value) instead, to perform the operation inplace on the original object.\n",
            "\n",
            "\n",
            "  merged_df[\"total_purchases\"].fillna(0, inplace=True)\n",
            "<ipython-input-8-86ecc476820d>:28: FutureWarning: A value is trying to be set on a copy of a DataFrame or Series through chained assignment using an inplace method.\n",
            "The behavior will change in pandas 3.0. This inplace method will never work because the intermediate object on which we are setting values always behaves as a copy.\n",
            "\n",
            "For example, when doing 'df[col].method(value, inplace=True)', try using 'df.method({col: value}, inplace=True)' or df[col] = df[col].method(value) instead, to perform the operation inplace on the original object.\n",
            "\n",
            "\n",
            "  merged_df[\"days_since_last_purchase\"].fillna(merged_df[\"days_since_last_purchase\"].median(), inplace=True)\n"
          ]
        }
      ],
      "source": [
        "# One hot encode customer categorical features\n",
        "categorical_cols = [\"club_member_status\", \"fashion_news_frequency\", \"sales_channel_id\"]\n",
        "encoder = OneHotEncoder(handle_unknown=\"ignore\", sparse_output=False)\n",
        "encoded_features = encoder.fit_transform(merged_df[categorical_cols])\n",
        "encoded_df = pd.DataFrame(encoded_features, columns=encoder.get_feature_names_out(categorical_cols))\n",
        "\n",
        "# Total customer purchases\n",
        "customer_total_purchases = merged_df.groupby(\"customer_id\")[\"article_id\"].count().reset_index()\n",
        "customer_total_purchases.rename(columns={\"article_id\": \"total_purchases\"}, inplace=True)\n",
        "merged_df = merged_df.merge(customer_total_purchases, on=\"customer_id\", how=\"left\")\n",
        "\n",
        "# Days since last purchase\n",
        "merged_df[\"t_dat\"] = pd.to_datetime(merged_df[\"t_dat\"])\n",
        "last_purchase = merged_df.groupby(\"customer_id\")[\"t_dat\"].max().reset_index()\n",
        "last_purchase[\"days_since_last_purchase\"] = (merged_df[\"t_dat\"].max() - last_purchase[\"t_dat\"]).dt.days\n",
        "merged_df = merged_df.merge(last_purchase[[\"customer_id\", \"days_since_last_purchase\"]], on=\"customer_id\", how=\"left\")\n",
        "\n",
        "# Customer purchases by category\n",
        "customer_category_counts = merged_df.groupby([\"customer_id\", \"product_group_name\"])[\"article_id\"].count().reset_index()\n",
        "customer_category_counts.rename(columns={\"article_id\": \"purchase_count\"}, inplace=True)\n",
        "customer_purchase_history = customer_category_counts.pivot(index=\"customer_id\", columns=\"product_group_name\", values=\"purchase_count\").fillna(0)\n",
        "merged_df = merged_df.merge(customer_purchase_history, on=\"customer_id\", how=\"left\")\n",
        "\n",
        "# Fill numerical n/a's\n",
        "merged_df[\"age\"].fillna(merged_df[\"age\"].median(), inplace=True)\n",
        "merged_df[\"price\"].fillna(merged_df[\"price\"].median(), inplace=True)\n",
        "merged_df[\"total_purchases\"].fillna(0, inplace=True)\n",
        "merged_df[\"days_since_last_purchase\"].fillna(merged_df[\"days_since_last_purchase\"].median(), inplace=True)\n",
        "\n",
        "# Add encoded categorical features\n",
        "merged_df = pd.concat([merged_df, encoded_df], axis=1)\n"
      ]
    },
    {
      "cell_type": "markdown",
      "metadata": {
        "id": "maLC846oUgys"
      },
      "source": [
        "#### Prep Final Training Data"
      ]
    },
    {
      "cell_type": "code",
      "execution_count": 9,
      "metadata": {
        "id": "voN0Um8ZUjgB"
      },
      "outputs": [],
      "source": [
        "# features for modeling\n",
        "selected_features = [\"price\", \"age\", \"total_purchases\", \"days_since_last_purchase\"]\n",
        "selected_features += encoded_df.columns.tolist()  # Add one-hot features\n",
        "selected_features += customer_purchase_history.columns.tolist()  # Add category purchase counts\n",
        "\n",
        "X = merged_df[selected_features]\n",
        "y = merged_df[\"target\"]\n",
        "\n",
        "# standardize features\n",
        "scaler = StandardScaler()\n",
        "X_scaled = scaler.fit_transform(X)\n",
        "\n",
        "# split into training and test\n",
        "X_train, X_test, y_train, y_test = train_test_split(\n",
        "    X_scaled, y, test_size=0.2, random_state=42, stratify=y\n",
        ")\n"
      ]
    },
    {
      "cell_type": "markdown",
      "metadata": {
        "id": "k-OIKPOxUrCb"
      },
      "source": [
        "Build Multilayer Perceptron"
      ]
    },
    {
      "cell_type": "code",
      "execution_count": 10,
      "metadata": {
        "id": "9hKZsToHVVzB",
        "colab": {
          "base_uri": "https://localhost:8080/",
          "height": 545
        },
        "outputId": "cc0649e3-d86a-4048-8bf2-47a08ba57ac6"
      },
      "outputs": [
        {
          "output_type": "display_data",
          "data": {
            "text/plain": [
              "\u001b[1mModel: \"functional\"\u001b[0m\n"
            ],
            "text/html": [
              "<pre style=\"white-space:pre;overflow-x:auto;line-height:normal;font-family:Menlo,'DejaVu Sans Mono',consolas,'Courier New',monospace\"><span style=\"font-weight: bold\">Model: \"functional\"</span>\n",
              "</pre>\n"
            ]
          },
          "metadata": {}
        },
        {
          "output_type": "display_data",
          "data": {
            "text/plain": [
              "┏━━━━━━━━━━━━━━━━━━━━━━━━━━━━━━━━━━━━━━┳━━━━━━━━━━━━━━━━━━━━━━━━━━━━━┳━━━━━━━━━━━━━━━━━┓\n",
              "┃\u001b[1m \u001b[0m\u001b[1mLayer (type)                        \u001b[0m\u001b[1m \u001b[0m┃\u001b[1m \u001b[0m\u001b[1mOutput Shape               \u001b[0m\u001b[1m \u001b[0m┃\u001b[1m \u001b[0m\u001b[1m        Param #\u001b[0m\u001b[1m \u001b[0m┃\n",
              "┡━━━━━━━━━━━━━━━━━━━━━━━━━━━━━━━━━━━━━━╇━━━━━━━━━━━━━━━━━━━━━━━━━━━━━╇━━━━━━━━━━━━━━━━━┩\n",
              "│ input_layer (\u001b[38;5;33mInputLayer\u001b[0m)             │ (\u001b[38;5;45mNone\u001b[0m, \u001b[38;5;34m23\u001b[0m)                  │               \u001b[38;5;34m0\u001b[0m │\n",
              "├──────────────────────────────────────┼─────────────────────────────┼─────────────────┤\n",
              "│ dense (\u001b[38;5;33mDense\u001b[0m)                        │ (\u001b[38;5;45mNone\u001b[0m, \u001b[38;5;34m128\u001b[0m)                 │           \u001b[38;5;34m3,072\u001b[0m │\n",
              "├──────────────────────────────────────┼─────────────────────────────┼─────────────────┤\n",
              "│ batch_normalization                  │ (\u001b[38;5;45mNone\u001b[0m, \u001b[38;5;34m128\u001b[0m)                 │             \u001b[38;5;34m512\u001b[0m │\n",
              "│ (\u001b[38;5;33mBatchNormalization\u001b[0m)                 │                             │                 │\n",
              "├──────────────────────────────────────┼─────────────────────────────┼─────────────────┤\n",
              "│ dropout (\u001b[38;5;33mDropout\u001b[0m)                    │ (\u001b[38;5;45mNone\u001b[0m, \u001b[38;5;34m128\u001b[0m)                 │               \u001b[38;5;34m0\u001b[0m │\n",
              "├──────────────────────────────────────┼─────────────────────────────┼─────────────────┤\n",
              "│ dense_1 (\u001b[38;5;33mDense\u001b[0m)                      │ (\u001b[38;5;45mNone\u001b[0m, \u001b[38;5;34m64\u001b[0m)                  │           \u001b[38;5;34m8,256\u001b[0m │\n",
              "├──────────────────────────────────────┼─────────────────────────────┼─────────────────┤\n",
              "│ batch_normalization_1                │ (\u001b[38;5;45mNone\u001b[0m, \u001b[38;5;34m64\u001b[0m)                  │             \u001b[38;5;34m256\u001b[0m │\n",
              "│ (\u001b[38;5;33mBatchNormalization\u001b[0m)                 │                             │                 │\n",
              "├──────────────────────────────────────┼─────────────────────────────┼─────────────────┤\n",
              "│ dropout_1 (\u001b[38;5;33mDropout\u001b[0m)                  │ (\u001b[38;5;45mNone\u001b[0m, \u001b[38;5;34m64\u001b[0m)                  │               \u001b[38;5;34m0\u001b[0m │\n",
              "├──────────────────────────────────────┼─────────────────────────────┼─────────────────┤\n",
              "│ dense_2 (\u001b[38;5;33mDense\u001b[0m)                      │ (\u001b[38;5;45mNone\u001b[0m, \u001b[38;5;34m32\u001b[0m)                  │           \u001b[38;5;34m2,080\u001b[0m │\n",
              "├──────────────────────────────────────┼─────────────────────────────┼─────────────────┤\n",
              "│ batch_normalization_2                │ (\u001b[38;5;45mNone\u001b[0m, \u001b[38;5;34m32\u001b[0m)                  │             \u001b[38;5;34m128\u001b[0m │\n",
              "│ (\u001b[38;5;33mBatchNormalization\u001b[0m)                 │                             │                 │\n",
              "├──────────────────────────────────────┼─────────────────────────────┼─────────────────┤\n",
              "│ dropout_2 (\u001b[38;5;33mDropout\u001b[0m)                  │ (\u001b[38;5;45mNone\u001b[0m, \u001b[38;5;34m32\u001b[0m)                  │               \u001b[38;5;34m0\u001b[0m │\n",
              "├──────────────────────────────────────┼─────────────────────────────┼─────────────────┤\n",
              "│ dense_3 (\u001b[38;5;33mDense\u001b[0m)                      │ (\u001b[38;5;45mNone\u001b[0m, \u001b[38;5;34m9\u001b[0m)                   │             \u001b[38;5;34m297\u001b[0m │\n",
              "└──────────────────────────────────────┴─────────────────────────────┴─────────────────┘\n"
            ],
            "text/html": [
              "<pre style=\"white-space:pre;overflow-x:auto;line-height:normal;font-family:Menlo,'DejaVu Sans Mono',consolas,'Courier New',monospace\">┏━━━━━━━━━━━━━━━━━━━━━━━━━━━━━━━━━━━━━━┳━━━━━━━━━━━━━━━━━━━━━━━━━━━━━┳━━━━━━━━━━━━━━━━━┓\n",
              "┃<span style=\"font-weight: bold\"> Layer (type)                         </span>┃<span style=\"font-weight: bold\"> Output Shape                </span>┃<span style=\"font-weight: bold\">         Param # </span>┃\n",
              "┡━━━━━━━━━━━━━━━━━━━━━━━━━━━━━━━━━━━━━━╇━━━━━━━━━━━━━━━━━━━━━━━━━━━━━╇━━━━━━━━━━━━━━━━━┩\n",
              "│ input_layer (<span style=\"color: #0087ff; text-decoration-color: #0087ff\">InputLayer</span>)             │ (<span style=\"color: #00d7ff; text-decoration-color: #00d7ff\">None</span>, <span style=\"color: #00af00; text-decoration-color: #00af00\">23</span>)                  │               <span style=\"color: #00af00; text-decoration-color: #00af00\">0</span> │\n",
              "├──────────────────────────────────────┼─────────────────────────────┼─────────────────┤\n",
              "│ dense (<span style=\"color: #0087ff; text-decoration-color: #0087ff\">Dense</span>)                        │ (<span style=\"color: #00d7ff; text-decoration-color: #00d7ff\">None</span>, <span style=\"color: #00af00; text-decoration-color: #00af00\">128</span>)                 │           <span style=\"color: #00af00; text-decoration-color: #00af00\">3,072</span> │\n",
              "├──────────────────────────────────────┼─────────────────────────────┼─────────────────┤\n",
              "│ batch_normalization                  │ (<span style=\"color: #00d7ff; text-decoration-color: #00d7ff\">None</span>, <span style=\"color: #00af00; text-decoration-color: #00af00\">128</span>)                 │             <span style=\"color: #00af00; text-decoration-color: #00af00\">512</span> │\n",
              "│ (<span style=\"color: #0087ff; text-decoration-color: #0087ff\">BatchNormalization</span>)                 │                             │                 │\n",
              "├──────────────────────────────────────┼─────────────────────────────┼─────────────────┤\n",
              "│ dropout (<span style=\"color: #0087ff; text-decoration-color: #0087ff\">Dropout</span>)                    │ (<span style=\"color: #00d7ff; text-decoration-color: #00d7ff\">None</span>, <span style=\"color: #00af00; text-decoration-color: #00af00\">128</span>)                 │               <span style=\"color: #00af00; text-decoration-color: #00af00\">0</span> │\n",
              "├──────────────────────────────────────┼─────────────────────────────┼─────────────────┤\n",
              "│ dense_1 (<span style=\"color: #0087ff; text-decoration-color: #0087ff\">Dense</span>)                      │ (<span style=\"color: #00d7ff; text-decoration-color: #00d7ff\">None</span>, <span style=\"color: #00af00; text-decoration-color: #00af00\">64</span>)                  │           <span style=\"color: #00af00; text-decoration-color: #00af00\">8,256</span> │\n",
              "├──────────────────────────────────────┼─────────────────────────────┼─────────────────┤\n",
              "│ batch_normalization_1                │ (<span style=\"color: #00d7ff; text-decoration-color: #00d7ff\">None</span>, <span style=\"color: #00af00; text-decoration-color: #00af00\">64</span>)                  │             <span style=\"color: #00af00; text-decoration-color: #00af00\">256</span> │\n",
              "│ (<span style=\"color: #0087ff; text-decoration-color: #0087ff\">BatchNormalization</span>)                 │                             │                 │\n",
              "├──────────────────────────────────────┼─────────────────────────────┼─────────────────┤\n",
              "│ dropout_1 (<span style=\"color: #0087ff; text-decoration-color: #0087ff\">Dropout</span>)                  │ (<span style=\"color: #00d7ff; text-decoration-color: #00d7ff\">None</span>, <span style=\"color: #00af00; text-decoration-color: #00af00\">64</span>)                  │               <span style=\"color: #00af00; text-decoration-color: #00af00\">0</span> │\n",
              "├──────────────────────────────────────┼─────────────────────────────┼─────────────────┤\n",
              "│ dense_2 (<span style=\"color: #0087ff; text-decoration-color: #0087ff\">Dense</span>)                      │ (<span style=\"color: #00d7ff; text-decoration-color: #00d7ff\">None</span>, <span style=\"color: #00af00; text-decoration-color: #00af00\">32</span>)                  │           <span style=\"color: #00af00; text-decoration-color: #00af00\">2,080</span> │\n",
              "├──────────────────────────────────────┼─────────────────────────────┼─────────────────┤\n",
              "│ batch_normalization_2                │ (<span style=\"color: #00d7ff; text-decoration-color: #00d7ff\">None</span>, <span style=\"color: #00af00; text-decoration-color: #00af00\">32</span>)                  │             <span style=\"color: #00af00; text-decoration-color: #00af00\">128</span> │\n",
              "│ (<span style=\"color: #0087ff; text-decoration-color: #0087ff\">BatchNormalization</span>)                 │                             │                 │\n",
              "├──────────────────────────────────────┼─────────────────────────────┼─────────────────┤\n",
              "│ dropout_2 (<span style=\"color: #0087ff; text-decoration-color: #0087ff\">Dropout</span>)                  │ (<span style=\"color: #00d7ff; text-decoration-color: #00d7ff\">None</span>, <span style=\"color: #00af00; text-decoration-color: #00af00\">32</span>)                  │               <span style=\"color: #00af00; text-decoration-color: #00af00\">0</span> │\n",
              "├──────────────────────────────────────┼─────────────────────────────┼─────────────────┤\n",
              "│ dense_3 (<span style=\"color: #0087ff; text-decoration-color: #0087ff\">Dense</span>)                      │ (<span style=\"color: #00d7ff; text-decoration-color: #00d7ff\">None</span>, <span style=\"color: #00af00; text-decoration-color: #00af00\">9</span>)                   │             <span style=\"color: #00af00; text-decoration-color: #00af00\">297</span> │\n",
              "└──────────────────────────────────────┴─────────────────────────────┴─────────────────┘\n",
              "</pre>\n"
            ]
          },
          "metadata": {}
        },
        {
          "output_type": "display_data",
          "data": {
            "text/plain": [
              "\u001b[1m Total params: \u001b[0m\u001b[38;5;34m14,601\u001b[0m (57.04 KB)\n"
            ],
            "text/html": [
              "<pre style=\"white-space:pre;overflow-x:auto;line-height:normal;font-family:Menlo,'DejaVu Sans Mono',consolas,'Courier New',monospace\"><span style=\"font-weight: bold\"> Total params: </span><span style=\"color: #00af00; text-decoration-color: #00af00\">14,601</span> (57.04 KB)\n",
              "</pre>\n"
            ]
          },
          "metadata": {}
        },
        {
          "output_type": "display_data",
          "data": {
            "text/plain": [
              "\u001b[1m Trainable params: \u001b[0m\u001b[38;5;34m14,153\u001b[0m (55.29 KB)\n"
            ],
            "text/html": [
              "<pre style=\"white-space:pre;overflow-x:auto;line-height:normal;font-family:Menlo,'DejaVu Sans Mono',consolas,'Courier New',monospace\"><span style=\"font-weight: bold\"> Trainable params: </span><span style=\"color: #00af00; text-decoration-color: #00af00\">14,153</span> (55.29 KB)\n",
              "</pre>\n"
            ]
          },
          "metadata": {}
        },
        {
          "output_type": "display_data",
          "data": {
            "text/plain": [
              "\u001b[1m Non-trainable params: \u001b[0m\u001b[38;5;34m448\u001b[0m (1.75 KB)\n"
            ],
            "text/html": [
              "<pre style=\"white-space:pre;overflow-x:auto;line-height:normal;font-family:Menlo,'DejaVu Sans Mono',consolas,'Courier New',monospace\"><span style=\"font-weight: bold\"> Non-trainable params: </span><span style=\"color: #00af00; text-decoration-color: #00af00\">448</span> (1.75 KB)\n",
              "</pre>\n"
            ]
          },
          "metadata": {}
        }
      ],
      "source": [
        "from tensorflow.keras.layers import Input, Dense, Dropout, BatchNormalization\n",
        "from tensorflow.keras.models import Model\n",
        "from tensorflow.keras.callbacks import EarlyStopping, ReduceLROnPlateau\n",
        "\n",
        "# output classes\n",
        "num_classes = len(np.unique(y_train))\n",
        "\n",
        "# model arch\n",
        "inputs = Input(shape=(X_train.shape[1],), name=\"input_layer\")\n",
        "x = Dense(128, activation=\"relu\")(inputs)\n",
        "x = BatchNormalization()(x)\n",
        "x = Dropout(0.3)(x)\n",
        "x = Dense(64, activation=\"relu\")(x)\n",
        "x = BatchNormalization()(x)\n",
        "x = Dropout(0.3)(x)\n",
        "x = Dense(32, activation=\"relu\")(x)\n",
        "x = BatchNormalization()(x)\n",
        "x = Dropout(0.2)(x)\n",
        "outputs = Dense(num_classes, activation=\"softmax\")(x)\n",
        "\n",
        "# Build & compile\n",
        "model = Model(inputs=inputs, outputs=outputs)\n",
        "model.compile(\n",
        "    optimizer=tf.keras.optimizers.Adam(learning_rate=0.001),\n",
        "    loss=\"sparse_categorical_crossentropy\",\n",
        "    metrics=[\"accuracy\"]\n",
        ")\n",
        "model.summary()"
      ]
    },
    {
      "cell_type": "markdown",
      "metadata": {
        "id": "ZDntkUfYVr7Y"
      },
      "source": [
        "#### Train"
      ]
    },
    {
      "cell_type": "code",
      "execution_count": 19,
      "metadata": {
        "id": "thJwYX8mVXY7",
        "colab": {
          "base_uri": "https://localhost:8080/"
        },
        "outputId": "c20be4e7-5684-48ec-cd30-d274b74bbf2f"
      },
      "outputs": [
        {
          "output_type": "stream",
          "name": "stdout",
          "text": [
            "Epoch 1/5\n",
            "\u001b[1m79189/79189\u001b[0m \u001b[32m━━━━━━━━━━━━━━━━━━━━\u001b[0m\u001b[37m\u001b[0m \u001b[1m367s\u001b[0m 5ms/step - accuracy: 0.4745 - loss: 1.3589 - val_accuracy: 0.5052 - val_loss: 1.2414 - learning_rate: 0.0010\n",
            "Epoch 2/5\n",
            "\u001b[1m79189/79189\u001b[0m \u001b[32m━━━━━━━━━━━━━━━━━━━━\u001b[0m\u001b[37m\u001b[0m \u001b[1m359s\u001b[0m 5ms/step - accuracy: 0.4904 - loss: 1.2913 - val_accuracy: 0.5059 - val_loss: 1.2378 - learning_rate: 0.0010\n",
            "Epoch 3/5\n",
            "\u001b[1m79189/79189\u001b[0m \u001b[32m━━━━━━━━━━━━━━━━━━━━\u001b[0m\u001b[37m\u001b[0m \u001b[1m359s\u001b[0m 5ms/step - accuracy: 0.4917 - loss: 1.2856 - val_accuracy: 0.5055 - val_loss: 1.2358 - learning_rate: 0.0010\n",
            "Epoch 4/5\n",
            "\u001b[1m79189/79189\u001b[0m \u001b[32m━━━━━━━━━━━━━━━━━━━━\u001b[0m\u001b[37m\u001b[0m \u001b[1m357s\u001b[0m 4ms/step - accuracy: 0.4927 - loss: 1.2826 - val_accuracy: 0.5062 - val_loss: 1.2336 - learning_rate: 0.0010\n",
            "Epoch 5/5\n",
            "\u001b[1m79189/79189\u001b[0m \u001b[32m━━━━━━━━━━━━━━━━━━━━\u001b[0m\u001b[37m\u001b[0m \u001b[1m350s\u001b[0m 4ms/step - accuracy: 0.4925 - loss: 1.2811 - val_accuracy: 0.5060 - val_loss: 1.2319 - learning_rate: 0.0010\n",
            "Restoring model weights from the end of the best epoch: 5.\n"
          ]
        }
      ],
      "source": [
        "# callbacks for early stopping and learning rate reduction\n",
        "early_stop = EarlyStopping(monitor=\"val_loss\", patience=10, restore_best_weights=True, verbose=1)\n",
        "reduce_lr = ReduceLROnPlateau(monitor=\"val_loss\", factor=0.5, patience=5, min_lr=1e-6, verbose=1)\n",
        "\n",
        "# train\n",
        "history = model.fit(\n",
        "    X_train, y_train,\n",
        "    validation_split=0.2,\n",
        "    epochs=50,\n",
        "    batch_size=256,\n",
        "    callbacks=[early_stop, reduce_lr],\n",
        "    verbose=1\n",
        ")"
      ]
    },
    {
      "cell_type": "markdown",
      "metadata": {
        "id": "fQLqTYgDVf96"
      },
      "source": [
        "#### Evaluate"
      ]
    },
    {
      "cell_type": "code",
      "execution_count": 20,
      "metadata": {
        "id": "DGR_pRuRVYuP",
        "colab": {
          "base_uri": "https://localhost:8080/"
        },
        "outputId": "fc24dfcb-0ab0-4dc3-c29a-e490880e3411"
      },
      "outputs": [
        {
          "output_type": "stream",
          "name": "stdout",
          "text": [
            "\u001b[1m197972/197972\u001b[0m \u001b[32m━━━━━━━━━━━━━━━━━━━━\u001b[0m\u001b[37m\u001b[0m \u001b[1m276s\u001b[0m 1ms/step - accuracy: 0.5059 - loss: 1.2316\n",
            "\n",
            "Test Accuracy: 50.59%\n",
            "\u001b[1m197972/197972\u001b[0m \u001b[32m━━━━━━━━━━━━━━━━━━━━\u001b[0m\u001b[37m\u001b[0m \u001b[1m180s\u001b[0m 909us/step\n",
            "\n",
            "Classification Report:\n",
            "              precision    recall  f1-score   support\n",
            "\n",
            "           0     0.5137    0.2035    0.2915    319919\n",
            "           1     0.4780    0.2761    0.3500    710494\n",
            "           2     0.5200    0.3615    0.4265   1409211\n",
            "           3     0.4983    0.8189    0.6196   2510551\n",
            "           4     0.7277    0.0512    0.0956     69636\n",
            "           5     0.5650    0.0750    0.1325    149104\n",
            "           6     0.5624    0.2620    0.3574    137142\n",
            "           7     0.5588    0.3867    0.4571    515844\n",
            "           8     0.5190    0.2494    0.3369    513172\n",
            "\n",
            "    accuracy                         0.5059   6335073\n",
            "   macro avg     0.5492    0.2982    0.3408   6335073\n",
            "weighted avg     0.5137    0.5059    0.4708   6335073\n",
            "\n"
          ]
        }
      ],
      "source": [
        "# Evaluate on the test set\n",
        "test_loss, test_acc = model.evaluate(X_test, y_test, verbose=1)\n",
        "print(f\"\\nTest Accuracy: {test_acc*100:.2f}%\")\n",
        "\n",
        "# Generate predictions & print report\n",
        "y_pred = np.argmax(model.predict(X_test), axis=1)\n",
        "print(\"\\nClassification Report:\")\n",
        "print(classification_report(y_test, y_pred, digits=4))"
      ]
    },
    {
      "cell_type": "markdown",
      "metadata": {
        "id": "TdvyAMqlVi6e"
      },
      "source": [
        "#### Plot"
      ]
    },
    {
      "cell_type": "code",
      "execution_count": 21,
      "metadata": {
        "id": "F_pUVmgVUvTm",
        "colab": {
          "base_uri": "https://localhost:8080/",
          "height": 441
        },
        "outputId": "2757e6c2-ffff-46c6-ee6b-853bc1d72928"
      },
      "outputs": [
        {
          "output_type": "display_data",
          "data": {
            "text/plain": [
              "<Figure size 1200x500 with 2 Axes>"
            ],
            "image/png": "[encoded data removed]"
          },
          "metadata": {}
        }
      ],
      "source": [
        "# training & validation accuracy & loss\n",
        "plt.figure(figsize=(12, 5))\n",
        "\n",
        "plt.subplot(1, 2, 1)\n",
        "plt.plot(history.history['accuracy'], label='Train Accuracy')\n",
        "plt.plot(history.history['val_accuracy'], label='Validation Accuracy')\n",
        "plt.title('Model Accuracy')\n",
        "plt.xlabel('Epoch')\n",
        "plt.ylabel('Accuracy')\n",
        "plt.legend()\n",
        "\n",
        "plt.subplot(1, 2, 2)\n",
        "plt.plot(history.history['loss'], label='Train Loss')\n",
        "plt.plot(history.history['val_loss'], label='Validation Loss')\n",
        "plt.title('Model Loss')\n",
        "plt.xlabel('Epoch')\n",
        "plt.ylabel('Loss')\n",
        "plt.legend()\n",
        "\n",
        "plt.tight_layout()\n",
        "plt.show()"
      ]
    }
  ],
  "metadata": {
    "accelerator": "TPU",
    "colab": {
      "gpuType": "V28",
      "provenance": [],
      "authorship_tag": "ABX9TyOfrh6gUC9yFx8XHk2rTw0+",
      "include_colab_link": true
    },
    "kernelspec": {
      "display_name": "Python 3",
      "name": "python3"
    },
    "language_info": {
      "name": "python"
    }
  },
  "nbformat": 4,
  "nbformat_minor": 0
}